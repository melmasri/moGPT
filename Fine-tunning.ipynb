{
 "cells": [
  {
   "cell_type": "code",
   "execution_count": 2,
   "metadata": {},
   "outputs": [],
   "source": [
    "# This model is equipped can pre-load GPT-2\n",
    "\n",
    "## under the following parameters: \n",
    "# gpt2: 124M parameters, 12 layers, 12 heads, 768 hidden dimension\n",
    "# gpt2-medium: 350M parameters, 24 layers, 16 heads, 1024 hidden dimension\n",
    "# gpt2-large: 774M parameters, 36 layers, 20 heads, 1280 hidden dimension\n",
    "# gpt2-xl: 1558M parameters, 48 layers, 25 heads, 1600 hidden dimension"
   ]
  },
  {
   "cell_type": "code",
   "execution_count": 3,
   "metadata": {},
   "outputs": [
    {
     "name": "stderr",
     "output_type": "stream",
     "text": [
      "/Users/m.elmasri/miniconda3/envs/mogpt/lib/python3.12/site-packages/tqdm/auto.py:21: TqdmWarning: IProgress not found. Please update jupyter and ipywidgets. See https://ipywidgets.readthedocs.io/en/stable/user_install.html\n",
      "  from .autonotebook import tqdm as notebook_tqdm\n"
     ]
    }
   ],
   "source": [
    "## Loading GPT-2\n",
    "from model import GPT\n",
    "from train import get_batch\n",
    "\n",
    "## Loading word encoder/decoder\n",
    "import tiktoken\n",
    "enc = tiktoken.get_encoding(\"gpt2\")\n",
    "decode = lambda x: enc.decode(x)\n",
    "\n",
    "\n",
    "## Loading constants\n",
    "from constants import N_LAYERS, N_HEADS, N_EMBED, BLOCK_SIZE, BIAS, DROP_OUT, VOCAB_SIZE"
   ]
  },
  {
   "cell_type": "code",
   "execution_count": 4,
   "metadata": {},
   "outputs": [
    {
     "name": "stdout",
     "output_type": "stream",
     "text": [
      "Building GPT model with config: {'n_heads': 12, 'n_embed': 768, 'block_size': 4, 'n_layers': 12, 'bias': False, 'dropout': 0.1, 'vocab_size': 50304}\n",
      "number of parameters: 123.59M\n"
     ]
    }
   ],
   "source": [
    "# initiate GPT model\n",
    "config = {\"n_heads\": N_HEADS, \n",
    "          \"n_embed\": N_EMBED,\n",
    "          \"block_size\": BLOCK_SIZE,\n",
    "          \"n_layers\": N_LAYERS, \n",
    "          \"bias\": BIAS, \n",
    "          'dropout': DROP_OUT, \n",
    "          'vocab_size': VOCAB_SIZE}\n",
    "config\n",
    "mogpt = GPT(config)"
   ]
  },
  {
   "cell_type": "code",
   "execution_count": 5,
   "metadata": {},
   "outputs": [
    {
     "name": "stdout",
     "output_type": "stream",
     "text": [
      "Loading model_type='gpt2-medium', with configmodel_config={'gpt2': {'n_layers': 12, 'n_heads': 12, 'n_embed': 768}, 'gpt2-medium': {'n_layers': 24, 'n_heads': 16, 'n_embed': 1024}, 'gpt2-large': {'n_layers': 36, 'n_heads': 20, 'n_embed': 1280}, 'gpt2-xl': {'n_layers': 48, 'n_heads': 25, 'n_embed': 1600}}\n"
     ]
    },
    {
     "name": "stderr",
     "output_type": "stream",
     "text": [
      "/Users/m.elmasri/miniconda3/envs/mogpt/lib/python3.12/site-packages/huggingface_hub/file_download.py:1132: FutureWarning: `resume_download` is deprecated and will be removed in version 1.0.0. Downloads always resume when possible. If you want to force a new download, use `force_download=True`.\n",
      "  warnings.warn(\n"
     ]
    },
    {
     "name": "stdout",
     "output_type": "stream",
     "text": [
      "Building GPT model with config: {'n_layers': 24, 'n_heads': 16, 'n_embed': 1024, 'vocab_size': 50257, 'block_size': 1024, 'bias': True, 'dropout': 0.1}\n",
      "number of parameters: 354.82M\n"
     ]
    }
   ],
   "source": [
    "## Loading pre-trained model\n",
    "## Here the above config is changed to the pre-trained model's config\n",
    "pretrained_mogpt= mogpt.load_pretrained_model('gpt2-medium')"
   ]
  },
  {
   "cell_type": "code",
   "execution_count": 15,
   "metadata": {},
   "outputs": [
    {
     "name": "stdout",
     "output_type": "stream",
     "text": [
      " targets: \t\t 'll fast for company:, \n",
      " prediction: \t\t  Coutthanksrorsme Gardner \n",
      " *-----------------*\n",
      " targets: \t\t , for my sake., \n",
      " prediction: \t\t LEY horizontally Sourcespeech intensity \n",
      " *-----------------*\n",
      " targets: \t\t \n",
      "\n",
      "MIRAN, \n",
      " prediction: \t\t parse fixtureprev lith shorten \n",
      " *-----------------*\n",
      " targets: \t\t ill you have done your, \n",
      " prediction: \t\t  Bark commodity playthroughious profit \n",
      " *-----------------*\n",
      " targets: \t\t ISTA:\n",
      "Not, \n",
      " prediction: \t\t  StarCraft goats StampGrandflies \n",
      " *-----------------*\n",
      " targets: \t\t \n",
      "Mistress, how, \n",
      " prediction: \t\t  invoked prosecute efforts unlawfullyfal \n",
      " *-----------------*\n",
      " targets: \t\t men in their new f, \n",
      " prediction: \t\t lords grindingpless Conquest Erdogan \n",
      " *-----------------*\n",
      " targets: \t\t  desperate mart.\n",
      "\n",
      ", \n",
      " prediction: \t\t  François CMS comb capable overriding \n",
      " *-----------------*\n"
     ]
    }
   ],
   "source": [
    "## Evaluating the model\n",
    "data, targets = get_batch('eval', pretrained_mogpt.get_config())\n",
    "num_predictions = 5\n",
    "y = pretrained_mogpt.predict_next(data, num_predictions)\n",
    "for i in range(len(y)): \n",
    "   print(f\" targets: \\t\\t {decode(targets[i,-num_predictions:].tolist())}, \\n prediction: \\t\\t {decode(y[i,-num_predictions:].tolist())} \\n *-----------------*\")\n"
   ]
  },
  {
   "cell_type": "code",
   "execution_count": null,
   "metadata": {},
   "outputs": [],
   "source": [
    "## Finetuning on new dataset\n",
    "# To use wandb set \n",
    "# WANDB_LOG=True and WANDB_KEY in constants.py\n",
    "# adjust INPUT_DATA_FOLDER in constants.py\n",
    "\n",
    "from train import train\n",
    "optimizer = torch.optim.Adam(pretrained_mogpt.parameters(), lr=0.01)\n",
    "optimizer.zero_grad()\n",
    "train(model=pretrained_mogpt, optimizer=optimizer, num_epochs=10)\n",
    "\n"
   ]
  }
 ],
 "metadata": {
  "kernelspec": {
   "display_name": "mogpt",
   "language": "python",
   "name": "python3"
  },
  "language_info": {
   "codemirror_mode": {
    "name": "ipython",
    "version": 3
   },
   "file_extension": ".py",
   "mimetype": "text/x-python",
   "name": "python",
   "nbconvert_exporter": "python",
   "pygments_lexer": "ipython3",
   "version": "3.12.3"
  }
 },
 "nbformat": 4,
 "nbformat_minor": 2
}
