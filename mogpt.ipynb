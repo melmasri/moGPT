{
 "cells": [
  {
   "cell_type": "code",
   "execution_count": 1,
   "metadata": {},
   "outputs": [],
   "source": [
    "import torch\n",
    "import torch.nn as nn\n",
    "import numpy as np\n",
    "import os"
   ]
  },
  {
   "cell_type": "code",
   "execution_count": 16,
   "metadata": {},
   "outputs": [
    {
     "name": "stdout",
     "output_type": "stream",
     "text": [
      "<_io.BufferedReader name='/Users/m.elmasri/src/moGPT/data/train.bin'>\n"
     ]
    }
   ],
   "source": [
    "# Loading binary data\n",
    "path_to_local_dir = os.getcwd()\n",
    "with open(f\"{path_to_local_dir}/data/train.bin\", 'rb') as file\n",
    "    train = file.read()\n"
   ]
  },
  {
   "cell_type": "code",
   "execution_count": 19,
   "metadata": {},
   "outputs": [
    {
     "data": {
      "text/plain": [
       "b'J\\x17#W\\x19\\x00\\xc6\\x00\\xe5 '"
      ]
     },
     "execution_count": 19,
     "metadata": {},
     "output_type": "execute_result"
    }
   ],
   "source": [
    "train[:10]"
   ]
  },
  {
   "cell_type": "code",
   "execution_count": 21,
   "metadata": {},
   "outputs": [
    {
     "name": "stdout",
     "output_type": "stream",
     "text": [
      "block size: 4, batch size: 8\n"
     ]
    }
   ],
   "source": [
    "from constants import BLOCK_SIZE, BATCH_SIZE\n",
    "print(f\"block size: {BLOCK_SIZE}, batch size: {BATCH_SIZE}\")"
   ]
  },
  {
   "cell_type": "code",
   "execution_count": 22,
   "metadata": {},
   "outputs": [
    {
     "data": {
      "text/plain": [
       "603928"
      ]
     },
     "execution_count": 22,
     "metadata": {},
     "output_type": "execute_result"
    }
   ],
   "source": [
    "len(train) - BLOCK_SIZE"
   ]
  },
  {
   "cell_type": "code",
   "execution_count": 23,
   "metadata": {},
   "outputs": [],
   "source": [
    "ix = torch.randint(len(train) - BLOCK_SIZE, (BATCH_SIZE,))"
   ]
  },
  {
   "cell_type": "code",
   "execution_count": 24,
   "metadata": {},
   "outputs": [
    {
     "data": {
      "text/plain": [
       "tensor([198863, 405154,  88998, 521762, 175796, 336810, 497142,  50821])"
      ]
     },
     "execution_count": 24,
     "metadata": {},
     "output_type": "execute_result"
    }
   ],
   "source": [
    "ix"
   ]
  },
  {
   "cell_type": "code",
   "execution_count": 26,
   "metadata": {},
   "outputs": [
    {
     "ename": "TypeError",
     "evalue": "expected np.ndarray (got bytes)",
     "output_type": "error",
     "traceback": [
      "\u001b[0;31m---------------------------------------------------------------------------\u001b[0m",
      "\u001b[0;31mTypeError\u001b[0m                                 Traceback (most recent call last)",
      "Cell \u001b[0;32mIn[26], line 1\u001b[0m\n\u001b[0;32m----> 1\u001b[0m x \u001b[38;5;241m=\u001b[39m torch\u001b[38;5;241m.\u001b[39mstack([\u001b[43mtorch\u001b[49m\u001b[38;5;241;43m.\u001b[39;49m\u001b[43mfrom_numpy\u001b[49m\u001b[43m(\u001b[49m\u001b[43m(\u001b[49m\u001b[43mtrain\u001b[49m\u001b[43m[\u001b[49m\u001b[43mi\u001b[49m\u001b[43m:\u001b[49m\u001b[43mi\u001b[49m\u001b[38;5;241;43m+\u001b[39;49m\u001b[43mBLOCK_SIZE\u001b[49m\u001b[43m]\u001b[49m\u001b[43m)\u001b[49m\u001b[43m)\u001b[49m \u001b[38;5;28;01mfor\u001b[39;00m i \u001b[38;5;129;01min\u001b[39;00m ix])\n",
      "\u001b[0;31mTypeError\u001b[0m: expected np.ndarray (got bytes)"
     ]
    }
   ],
   "source": [
    "x = torch.stack([torch.from_numpy((train[i:i+BLOCK_SIZE])) for i in ix])"
   ]
  },
  {
   "cell_type": "code",
   "execution_count": 27,
   "metadata": {},
   "outputs": [
    {
     "ename": "TypeError",
     "evalue": "expected np.ndarray (got bytes)",
     "output_type": "error",
     "traceback": [
      "\u001b[0;31m---------------------------------------------------------------------------\u001b[0m",
      "\u001b[0;31mTypeError\u001b[0m                                 Traceback (most recent call last)",
      "Cell \u001b[0;32mIn[27], line 1\u001b[0m\n\u001b[0;32m----> 1\u001b[0m [\u001b[43mtorch\u001b[49m\u001b[38;5;241;43m.\u001b[39;49m\u001b[43mfrom_numpy\u001b[49m\u001b[43m(\u001b[49m\u001b[43m(\u001b[49m\u001b[43mtrain\u001b[49m\u001b[43m[\u001b[49m\u001b[43mi\u001b[49m\u001b[43m:\u001b[49m\u001b[43mi\u001b[49m\u001b[38;5;241;43m+\u001b[39;49m\u001b[43mBLOCK_SIZE\u001b[49m\u001b[43m]\u001b[49m\u001b[43m)\u001b[49m\u001b[43m)\u001b[49m \u001b[38;5;28;01mfor\u001b[39;00m i \u001b[38;5;129;01min\u001b[39;00m ix]\n",
      "\u001b[0;31mTypeError\u001b[0m: expected np.ndarray (got bytes)"
     ]
    }
   ],
   "source": [
    "[torch.from_numpy((train[i:i+BLOCK_SIZE])) for i in ix]"
   ]
  },
  {
   "cell_type": "code",
   "execution_count": 5,
   "metadata": {},
   "outputs": [],
   "source": [
    "from train import get_batch"
   ]
  },
  {
   "cell_type": "code",
   "execution_count": 6,
   "metadata": {},
   "outputs": [
    {
     "name": "stdout",
     "output_type": "stream",
     "text": [
      "tensor([[  301, 14210,   407,  2121],\n",
      "        [ 1309,  8028,   290,  4736],\n",
      "        [  683,   345,   466, 31651],\n",
      "        [ 1537,    11,  1560,   502],\n",
      "        [ 1677,    40,  2937,    25],\n",
      "        [   25,   198, 16773,    11],\n",
      "        [   13,   198,   198,    35],\n",
      "        [  198,  1890, 10013,   534]])\n"
     ]
    },
    {
     "data": {
      "text/plain": [
       "(tensor([[  301, 14210,   407,  2121],\n",
       "         [ 1309,  8028,   290,  4736],\n",
       "         [  683,   345,   466, 31651],\n",
       "         [ 1537,    11,  1560,   502],\n",
       "         [ 1677,    40,  2937,    25],\n",
       "         [   25,   198, 16773,    11],\n",
       "         [   13,   198,   198,    35],\n",
       "         [  198,  1890, 10013,   534]]),\n",
       " tensor([[14210,   407,  2121,   503],\n",
       "         [ 8028,   290,  4736,   307],\n",
       "         [  345,   466, 31651,   502],\n",
       "         [   11,  1560,   502,    11],\n",
       "         [   40,  2937,    25,   198],\n",
       "         [  198, 16773,    11,  1282],\n",
       "         [  198,   198,    35,    52],\n",
       "         [ 1890, 10013,   534,  1029]]))"
      ]
     },
     "execution_count": 6,
     "metadata": {},
     "output_type": "execute_result"
    }
   ],
   "source": [
    "get_batch('train')"
   ]
  },
  {
   "cell_type": "code",
   "execution_count": null,
   "metadata": {},
   "outputs": [],
   "source": []
  }
 ],
 "metadata": {
  "kernelspec": {
   "display_name": "mogpt",
   "language": "python",
   "name": "python3"
  },
  "language_info": {
   "codemirror_mode": {
    "name": "ipython",
    "version": 3
   },
   "file_extension": ".py",
   "mimetype": "text/x-python",
   "name": "python",
   "nbconvert_exporter": "python",
   "pygments_lexer": "ipython3",
   "version": "3.12.3"
  }
 },
 "nbformat": 4,
 "nbformat_minor": 2
}
