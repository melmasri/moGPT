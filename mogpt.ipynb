{
 "cells": [
  {
   "cell_type": "code",
   "execution_count": 10,
   "metadata": {},
   "outputs": [
    {
     "name": "stdout",
     "output_type": "stream",
     "text": [
      "The autoreload extension is already loaded. To reload it, use:\n",
      "  %reload_ext autoreload\n"
     ]
    }
   ],
   "source": [
    "%load_ext autoreload\n",
    "%autoreload 2\n",
    "import torch\n",
    "import torch.nn as nn\n",
    "import numpy as np\n",
    "import os\n",
    "from constants import BLOCK_SIZE, BATCH_SIZE, VOCAB_SIZE\n",
    "from model import BigramLanguageModel\n",
    "from train import get_batch\n",
    "from torch.nn import functional as F"
   ]
  },
  {
   "cell_type": "code",
   "execution_count": 2,
   "metadata": {},
   "outputs": [],
   "source": [
    "# Loading binary data\n",
    "path_to_local_dir = os.getcwd()\n",
    "with open(f\"{path_to_local_dir}/data/shakespeare/train.bin\", 'rb') as file:\n",
    "    train = file.read()\n"
   ]
  },
  {
   "cell_type": "code",
   "execution_count": 42,
   "metadata": {},
   "outputs": [
    {
     "name": "stdout",
     "output_type": "stream",
     "text": [
      "when the context is tensor([29296]) the target is 34\n",
      "when the context is tensor([29296,    34]) the target is 3843\n",
      "when the context is tensor([29296,    34,  3843]) the target is 9399\n",
      "when the context is tensor([29296,    34,  3843,  9399]) the target is 25\n",
      "when the context is tensor([374]) the target is 29319\n",
      "when the context is tensor([  374, 29319]) the target is 3297\n",
      "when the context is tensor([  374, 29319,  3297]) the target is 407\n",
      "when the context is tensor([  374, 29319,  3297,   407]) the target is 351\n",
      "when the context is tensor([832]) the target is 477\n",
      "when the context is tensor([832, 477]) the target is 11906\n",
      "when the context is tensor([  832,   477, 11906]) the target is 32375\n",
      "when the context is tensor([  832,   477, 11906, 32375]) the target is 2236\n",
      "when the context is tensor([407]) the target is 1865\n",
      "when the context is tensor([ 407, 1865]) the target is 17767\n",
      "when the context is tensor([  407,  1865, 17767]) the target is 13\n",
      "when the context is tensor([  407,  1865, 17767,    13]) the target is 198\n",
      "when the context is tensor([2053]) the target is 82\n",
      "when the context is tensor([2053,   82]) the target is 287\n",
      "when the context is tensor([2053,   82,  287]) the target is 616\n",
      "when the context is tensor([2053,   82,  287,  616]) the target is 27517\n",
      "when the context is tensor([314]) the target is 716\n",
      "when the context is tensor([314, 716]) the target is 11\n",
      "when the context is tensor([314, 716,  11]) the target is 198\n",
      "when the context is tensor([314, 716,  11, 198]) the target is 40\n",
      "when the context is tensor([13]) the target is 198\n",
      "when the context is tensor([ 13, 198]) the target is 23318\n",
      "when the context is tensor([   13,   198, 23318]) the target is 502\n",
      "when the context is tensor([   13,   198, 23318,   502]) the target is 617\n",
      "when the context is tensor([10695]) the target is 22027\n",
      "when the context is tensor([10695, 22027]) the target is 262\n",
      "when the context is tensor([10695, 22027,   262]) the target is 13360\n",
      "when the context is tensor([10695, 22027,   262, 13360]) the target is 287\n"
     ]
    }
   ],
   "source": [
    "for b in range(BATCH_SIZE):\n",
    "    for t in range(BLOCK_SIZE):\n",
    "        context = x[b, :t+1]\n",
    "        target = y[b, t]\n",
    "        print(f\"when the context is {context} the target is {target}\")"
   ]
  },
  {
   "cell_type": "code",
   "execution_count": 5,
   "metadata": {},
   "outputs": [
    {
     "name": "stderr",
     "output_type": "stream",
     "text": [
      "/Users/m.elmasri/miniconda3/envs/mogpt/lib/python3.12/site-packages/tqdm/auto.py:21: TqdmWarning: IProgress not found. Please update jupyter and ipywidgets. See https://ipywidgets.readthedocs.io/en/stable/user_install.html\n",
      "  from .autonotebook import tqdm as notebook_tqdm\n"
     ]
    }
   ],
   "source": [
    "\n",
    "model = BigramLanguageModel(VOCAB_SIZE)\n",
    "optimizer = torch.optim.Adam(model.parameters(), lr=0.01)"
   ]
  },
  {
   "cell_type": "code",
   "execution_count": 6,
   "metadata": {},
   "outputs": [
    {
     "ename": "NameError",
     "evalue": "name 'data' is not defined",
     "output_type": "error",
     "traceback": [
      "\u001b[0;31m---------------------------------------------------------------------------\u001b[0m",
      "\u001b[0;31mNameError\u001b[0m                                 Traceback (most recent call last)",
      "Cell \u001b[0;32mIn[6], line 1\u001b[0m\n\u001b[0;32m----> 1\u001b[0m \u001b[43mdata\u001b[49m\n",
      "\u001b[0;31mNameError\u001b[0m: name 'data' is not defined"
     ]
    }
   ],
   "source": [
    "data"
   ]
  },
  {
   "cell_type": "code",
   "execution_count": 7,
   "metadata": {},
   "outputs": [],
   "source": [
    "from train import get_batch\n",
    "data, targets = get_batch('train')\n",
    "optimizer.zero_grad()\n",
    "logits = model(data)"
   ]
  },
  {
   "cell_type": "code",
   "execution_count": 9,
   "metadata": {},
   "outputs": [],
   "source": [
    "B, T, C = logits.shape\n",
    "targets = targets.view(B*T)\n",
    "logits = logits.view(B*T, C)"
   ]
  },
  {
   "cell_type": "code",
   "execution_count": 11,
   "metadata": {},
   "outputs": [
    {
     "name": "stdout",
     "output_type": "stream",
     "text": [
      "loss=tensor(11.7273, grad_fn=<NllLossBackward0>)\n"
     ]
    }
   ],
   "source": [
    "loss = F.cross_entropy(logits, targets)\n",
    "print(f'{loss=}')\n",
    "loss.backward()"
   ]
  },
  {
   "cell_type": "code",
   "execution_count": null,
   "metadata": {},
   "outputs": [],
   "source": [
    "F.softmax(logits, dim=1)"
   ]
  },
  {
   "cell_type": "code",
   "execution_count": 13,
   "metadata": {},
   "outputs": [],
   "source": [
    "from train import train\n",
    "train(model, optimizer, 1)"
   ]
  },
  {
   "cell_type": "code",
   "execution_count": null,
   "metadata": {},
   "outputs": [],
   "source": []
  }
 ],
 "metadata": {
  "kernelspec": {
   "display_name": "mogpt",
   "language": "python",
   "name": "python3"
  },
  "language_info": {
   "codemirror_mode": {
    "name": "ipython",
    "version": 3
   },
   "file_extension": ".py",
   "mimetype": "text/x-python",
   "name": "python",
   "nbconvert_exporter": "python",
   "pygments_lexer": "ipython3",
   "version": "3.12.3"
  }
 },
 "nbformat": 4,
 "nbformat_minor": 2
}
